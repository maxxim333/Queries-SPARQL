{
 "cells": [
  {
   "cell_type": "code",
   "execution_count": 9,
   "metadata": {},
   "outputs": [
    {
     "data": {
      "text/html": [
       "<div class=\"krn-spql\"><div class=\"magic\">Endpoint set to: https://www.ebi.ac.uk/rdf/services/sparql</div><div class=\"magic\">Return format: JSON</div></div>"
      ],
      "text/plain": [
       "Endpoint set to: https://www.ebi.ac.uk/rdf/services/sparql\n",
       "Return format: JSON\n"
      ]
     },
     "metadata": {},
     "output_type": "display_data"
    },
    {
     "data": {
      "text/html": [
       "<div class=\"krn-spql\"><table><tr class=hdr><th>p</th></tr><tr class=odd><td class=val><a href=\"http://www.w3.org/2000/01/rdf-schema#seeAlso\" target=\"_other\">http://www.w3.org/2000/01/rdf-schema#seeAlso</a></td></tr><tr class=even><td class=val><a href=\"http://rdf.ebi.ac.uk/terms/ensembl/DEPENDENT\" target=\"_other\">http://rdf.ebi.ac.uk/terms/ensembl/DEPENDENT</a></td></tr></table><div class=\"tinfo\">Total: 2, Shown: 2</div></div>"
      ]
     },
     "metadata": {},
     "output_type": "display_data"
    }
   ],
   "source": [
    "#We did this exercise in collaboration with many people from my class\n",
    "#So credit goes to all students of UPM Computational Biology Master\n",
    "#Academic year 2018/19\n",
    "\n",
    "#In some cases, I put LIMIT in queries because my PC is slow and there is no reason to assume that\n",
    "#if the first 1000 worked, the following wouldnt."
   ]
  },
  {
   "cell_type": "code",
   "execution_count": null,
   "metadata": {},
   "outputs": [
    {
     "data": {
      "text/html": [
       "<div class=\"krn-spql\"><div class=\"magic\">Endpoint set to: http://sparql.uniprot.org/sparql/</div><div class=\"magic\">Return format: JSON</div></div>"
      ],
      "text/plain": [
       "Endpoint set to: http://sparql.uniprot.org/sparql/\n",
       "Return format: JSON\n"
      ]
     },
     "metadata": {},
     "output_type": "display_data"
    }
   ],
   "source": [
    "#Takes too much time to retreive all. But the query works fine because  putting this:\n",
    "\n",
    "#PREFIX uniprot:<http://purl.uniprot.org/core/>\n",
    "#SELECT ?protein\n",
    "#WHERE {?protein a uniprot:Protein}\n",
    "#LIMIT 1000\n",
    "\n",
    "#Works fine, so the problem is with COUNT\n",
    "\n",
    "%endpoint http://sparql.uniprot.org/sparql/\n",
    "%format JSON\n",
    "\n",
    "#1 How many protein records are in UniProt? \n",
    "\n",
    "PREFIX uniprot:<http://purl.uniprot.org/core/>\n",
    "#SELECT (COUNT(DISTINCT ?protein) AS ?count) \n",
    "#SELECT ?protein\n",
    "SELECT (COUNT(DISTINCT ?protein) AS ?count) \n",
    "\n",
    "WHERE {?protein a uniprot:Protein}\n",
    "#LIMIT 1000\n"
   ]
  },
  {
   "cell_type": "code",
   "execution_count": 36,
   "metadata": {
    "scrolled": true
   },
   "outputs": [
    {
     "data": {
      "text/html": [
       "<div class=\"krn-spql\"><div class=\"magic\">Return format: JSON</div><div class=\"magic\">Endpoint set to: http://sparql.uniprot.org/sparql</div></div>"
      ],
      "text/plain": [
       "Return format: JSON\n",
       "Endpoint set to: http://sparql.uniprot.org/sparql\n"
      ]
     },
     "metadata": {},
     "output_type": "display_data"
    },
    {
     "data": {
      "text/html": [
       "<div class=\"krn-spql\"><table><tr class=hdr><th>count</th></tr><tr class=odd><td class=val>89247</td></tr></table><div class=\"tinfo\">Total: 1, Shown: 1</div></div>"
      ]
     },
     "metadata": {},
     "output_type": "display_data"
    }
   ],
   "source": [
    "#OK\n",
    "#2 How many Arabidopsis thaliana protein records are in UniProt?  \n",
    "%format JSON\n",
    "\n",
    "%endpoint http://sparql.uniprot.org/sparql\n",
    "PREFIX uniprotcore:<http://purl.uniprot.org/core/> \n",
    "PREFIX taxonomy:<http://purl.uniprot.org/taxonomy/>\n",
    "SELECT (COUNT(DISTINCT ?protein) AS ?count) \n",
    "WHERE\n",
    "{\n",
    "    ?protein a uniprotcore:Protein .\n",
    "    ?protein uniprotcore:organism taxonomy:3702 #This is the taxon of A. Thaliana\n",
    "            \n",
    "}\n",
    "\n",
    "#Answer: 89247"
   ]
  },
  {
   "cell_type": "code",
   "execution_count": 38,
   "metadata": {
    "scrolled": true
   },
   "outputs": [
    {
     "data": {
      "text/html": [
       "<div class=\"krn-spql\"><div class=\"magic\">Endpoint set to: http://sparql.uniprot.org/sparql</div><div class=\"magic\">Return format: JSON</div></div>"
      ],
      "text/plain": [
       "Endpoint set to: http://sparql.uniprot.org/sparql\n",
       "Return format: JSON\n"
      ]
     },
     "metadata": {},
     "output_type": "display_data"
    },
    {
     "data": {
      "text/html": [
       "<div class=\"krn-spql\"><table><tr class=hdr><th>label</th></tr><tr class=odd><td class=val><a href=\"http://purl.uniprot.org/enzyme/1.14.15.24\" target=\"_other\">http://purl.uniprot.org/enzyme/1.14.15.24</a></td></tr></table><div class=\"tinfo\">Total: 1, Shown: 1</div></div>"
      ]
     },
     "metadata": {},
     "output_type": "display_data"
    }
   ],
   "source": [
    "#3 What is the description of the enzyme activity of UniProt Protein Q9SZZ8\n",
    "%endpoint http://sparql.uniprot.org/sparql\n",
    "%format JSON\n",
    "\n",
    "\n",
    "\n",
    "PREFIX uniprot:<http://purl.uniprot.org/uniprot/> \n",
    "PREFIX uniprotcore:<http://purl.uniprot.org/core/> \n",
    "SELECT ?label\n",
    "WHERE\n",
    "{\n",
    "    uniprot:Q9SZZ8 a uniprotcore:Protein ; \n",
    "    uniprotcore:enzyme ?label\n",
    "}\n",
    "\n",
    "#Beta-carotene + 4 reduced ferredoxin [iron-sulfur] cluster + 2 H(+) + 2 O(2) <=> zeaxanthin + 4 oxidized ferredoxin [iron-sulfur] cluster + 2 H(2)O"
   ]
  },
  {
   "cell_type": "code",
   "execution_count": 3,
   "metadata": {},
   "outputs": [
    {
     "data": {
      "text/html": [
       "<div class=\"krn-spql\"><div class=\"magic\">Endpoint set to: http://sparql.uniprot.org/sparql</div></div>"
      ],
      "text/plain": [
       "Endpoint set to: http://sparql.uniprot.org/sparql\n"
      ]
     },
     "metadata": {},
     "output_type": "display_data"
    },
    {
     "data": {
      "text/html": [
       "<div class=\"krn-spql\"><table><tr class=hdr><th>protein</th>\n",
       "<th>date</th></tr><tr class=odd><td class=val><a href=\"http://purl.uniprot.org/uniprot/A0A1P8B8F8\" target=\"_other\">http://purl.uniprot.org/uniprot/A0A1P8B8F8</a></td>\n",
       "<td class=val>2018-10-10</td></tr><tr class=even><td class=val><a href=\"http://purl.uniprot.org/uniprot/Q680B7\" target=\"_other\">http://purl.uniprot.org/uniprot/Q680B7</a></td>\n",
       "<td class=val>2018-10-10</td></tr><tr class=odd><td class=val><a href=\"http://purl.uniprot.org/uniprot/A0A2K9YNH4\" target=\"_other\">http://purl.uniprot.org/uniprot/A0A2K9YNH4</a></td>\n",
       "<td class=val>2018-04-25</td></tr><tr class=even><td class=val><a href=\"http://purl.uniprot.org/uniprot/A0A024B7W1\" target=\"_other\">http://purl.uniprot.org/uniprot/A0A024B7W1</a></td>\n",
       "<td class=val>2018-01-31</td></tr><tr class=odd><td class=val><a href=\"http://purl.uniprot.org/uniprot/A0A2H3TN27\" target=\"_other\">http://purl.uniprot.org/uniprot/A0A2H3TN27</a></td>\n",
       "<td class=val>2018-01-31</td></tr><tr class=even><td class=val><a href=\"http://purl.uniprot.org/uniprot/A0A2D1BN72\" target=\"_other\">http://purl.uniprot.org/uniprot/A0A2D1BN72</a></td>\n",
       "<td class=val>2018-01-31</td></tr><tr class=odd><td class=val><a href=\"http://purl.uniprot.org/uniprot/A0A2D1BNF2\" target=\"_other\">http://purl.uniprot.org/uniprot/A0A2D1BNF2</a></td>\n",
       "<td class=val>2018-01-31</td></tr><tr class=even><td class=val><a href=\"http://purl.uniprot.org/uniprot/A0A2D1BPS8\" target=\"_other\">http://purl.uniprot.org/uniprot/A0A2D1BPS8</a></td>\n",
       "<td class=val>2018-01-31</td></tr><tr class=odd><td class=val><a href=\"http://purl.uniprot.org/uniprot/A0A2D1BS23\" target=\"_other\">http://purl.uniprot.org/uniprot/A0A2D1BS23</a></td>\n",
       "<td class=val>2018-01-31</td></tr><tr class=even><td class=val><a href=\"http://purl.uniprot.org/uniprot/A0A2D1BSI7\" target=\"_other\">http://purl.uniprot.org/uniprot/A0A2D1BSI7</a></td>\n",
       "<td class=val>2018-01-31</td></tr><tr class=odd><td class=val><a href=\"http://purl.uniprot.org/uniprot/A0A2D1BTE9\" target=\"_other\">http://purl.uniprot.org/uniprot/A0A2D1BTE9</a></td>\n",
       "<td class=val>2018-01-31</td></tr><tr class=even><td class=val><a href=\"http://purl.uniprot.org/uniprot/A0A2D1BUV9\" target=\"_other\">http://purl.uniprot.org/uniprot/A0A2D1BUV9</a></td>\n",
       "<td class=val>2018-01-31</td></tr><tr class=odd><td class=val><a href=\"http://purl.uniprot.org/uniprot/A0A2D1BZT4\" target=\"_other\">http://purl.uniprot.org/uniprot/A0A2D1BZT4</a></td>\n",
       "<td class=val>2018-01-31</td></tr><tr class=even><td class=val><a href=\"http://purl.uniprot.org/uniprot/A0A2D3UTF8\" target=\"_other\">http://purl.uniprot.org/uniprot/A0A2D3UTF8</a></td>\n",
       "<td class=val>2018-01-31</td></tr><tr class=odd><td class=val><a href=\"http://purl.uniprot.org/uniprot/A0A2D3UWB7\" target=\"_other\">http://purl.uniprot.org/uniprot/A0A2D3UWB7</a></td>\n",
       "<td class=val>2018-01-31</td></tr><tr class=even><td class=val><a href=\"http://purl.uniprot.org/uniprot/A0A2D3UZD4\" target=\"_other\">http://purl.uniprot.org/uniprot/A0A2D3UZD4</a></td>\n",
       "<td class=val>2018-01-31</td></tr><tr class=odd><td class=val><a href=\"http://purl.uniprot.org/uniprot/A0A2D3VDM7\" target=\"_other\">http://purl.uniprot.org/uniprot/A0A2D3VDM7</a></td>\n",
       "<td class=val>2018-01-31</td></tr><tr class=even><td class=val><a href=\"http://purl.uniprot.org/uniprot/A0A2G1Y4D7\" target=\"_other\">http://purl.uniprot.org/uniprot/A0A2G1Y4D7</a></td>\n",
       "<td class=val>2018-01-31</td></tr><tr class=odd><td class=val><a href=\"http://purl.uniprot.org/uniprot/A0A2G1XZM2\" target=\"_other\">http://purl.uniprot.org/uniprot/A0A2G1XZM2</a></td>\n",
       "<td class=val>2018-01-31</td></tr><tr class=even><td class=val><a href=\"http://purl.uniprot.org/uniprot/A0A2G1Y9C5\" target=\"_other\">http://purl.uniprot.org/uniprot/A0A2G1Y9C5</a></td>\n",
       "<td class=val>2018-01-31</td></tr></table><div class=\"tinfo\">Total: 1000, Shown: 20</div></div>"
      ]
     },
     "metadata": {},
     "output_type": "display_data"
    }
   ],
   "source": [
    "#4 Retrieve the proteins ids, and date of submission, for proteins that have been added to \n",
    "#UniProt this year   \n",
    "%endpoint http://sparql.uniprot.org/sparql\n",
    "%format JSON\n",
    "\n",
    "\n",
    "PREFIX uniprotcore:<http://purl.uniprot.org/core/>\n",
    "PREFIX date:<http://www.w3.org/2001/XMLSchema#>\n",
    "SELECT ?protein ?date\n",
    "WHERE \n",
    "{ \n",
    "    ?protein a uniprotcore:Protein .\n",
    "    ?protein uniprotcore:created ?date . \n",
    "    FILTER ( ?date >= \"20180101\"^^date:date && ?date <= \"20181231\"^^date:date ) \n",
    "}\n",
    "LIMIT 1000\n"
   ]
  },
  {
   "cell_type": "code",
   "execution_count": 6,
   "metadata": {},
   "outputs": [
    {
     "data": {
      "text/html": [
       "<div class=\"krn-spql\"><div class=\"magic\">Endpoint set to: http://sparql.uniprot.org/sparql</div><div class=\"magic\">Return format: JSON</div></div>"
      ],
      "text/plain": [
       "Endpoint set to: http://sparql.uniprot.org/sparql\n",
       "Return format: JSON\n"
      ]
     },
     "metadata": {},
     "output_type": "display_data"
    },
    {
     "data": {
      "text/html": [
       "<div class=\"krn-spql\"><table><tr class=hdr><th>count</th></tr><tr class=odd><td class=val>1601900</td></tr></table><div class=\"tinfo\">Total: 1, Shown: 1</div></div>"
      ]
     },
     "metadata": {},
     "output_type": "display_data"
    }
   ],
   "source": [
    "#5 How  many species are in the UniProt taxonomy?\n",
    "%endpoint http://sparql.uniprot.org/sparql\n",
    "%format JSON\n",
    "\n",
    "PREFIX uniprotcore:<http://purl.uniprot.org/core/>\n",
    "SELECT (COUNT(DISTINCT ?taxon) AS ?count)\n",
    "FROM <http://sparql.uniprot.org/taxonomy>\n",
    "WHERE\n",
    "{\n",
    "    ?taxon a uniprotcore:Taxon .\n",
    "    ?taxon uniprotcore:rank uniprotcore:Species\n",
    "}\n",
    "\n",
    "#Answer:1601900"
   ]
  },
  {
   "cell_type": "code",
   "execution_count": 8,
   "metadata": {},
   "outputs": [
    {
     "data": {
      "text/html": [
       "<div class=\"krn-spql\"><div class=\"magic\">Endpoint set to: http://sparql.uniprot.org/sparql</div><div class=\"magic\">Return format: JSON</div></div>"
      ],
      "text/plain": [
       "Endpoint set to: http://sparql.uniprot.org/sparql\n",
       "Return format: JSON\n"
      ]
     },
     "metadata": {},
     "output_type": "display_data"
    },
    {
     "data": {
      "text/html": [
       "<div class=\"krn-spql\"><table><tr class=hdr><th>count</th></tr><tr class=odd><td class=val>833130</td></tr></table><div class=\"tinfo\">Total: 1, Shown: 1</div></div>"
      ]
     },
     "metadata": {},
     "output_type": "display_data"
    }
   ],
   "source": [
    "#OK\n",
    "#6 How many species have at least one protein record? \n",
    "%endpoint http://sparql.uniprot.org/sparql\n",
    "%format JSON\n",
    "\n",
    "PREFIX uniprotcore:<http://purl.uniprot.org/core/>\n",
    "SELECT (COUNT(DISTINCT ?taxon) AS ?count)\n",
    "WHERE\n",
    "{\n",
    "    ?protein a uniprotcore:Protein .\n",
    "    ?protein uniprotcore:organism ?taxon .\n",
    "    ?taxon uniprotcore:rank uniprotcore:Species\n",
    "}\n",
    "\n",
    "#Answer: 833130"
   ]
  },
  {
   "cell_type": "code",
   "execution_count": 9,
   "metadata": {},
   "outputs": [
    {
     "data": {
      "text/html": [
       "<div class=\"krn-spql\"><div class=\"magic\">Endpoint set to: http://www.ebi.ac.uk/rdf/services/atlas/sparql</div></div>"
      ],
      "text/plain": [
       "Endpoint set to: http://www.ebi.ac.uk/rdf/services/atlas/sparql\n"
      ]
     },
     "metadata": {},
     "output_type": "display_data"
    },
    {
     "data": {
      "text/html": [
       "<div class=\"krn-spql\"><table><tr class=hdr><th>protein</th></tr></table><div class=\"tinfo\">Total: 0, Shown: 0</div></div>"
      ]
     },
     "metadata": {},
     "output_type": "display_data"
    }
   ],
   "source": [
    "#The ones with atlas dont work for some reason\n",
    "%endpoint http://www.ebi.ac.uk/rdf/services/atlas/sparql\n",
    "#%endpoint https://www.ebi.ac.uk/rdf/services/sparql\n",
    "#%endpoint http://sparql.uniprot.org/sparql\n",
    "\n",
    "#7.\n",
    "\n",
    "\n",
    "PREFIX dcterms: <http://purl.org/dc/terms/>\n",
    "PREFIX atlasterms: <http://rdf.ebi.ac.uk/terms/atlas/>\n",
    "PREFIX uniprotcore:<http://purl.uniprot.org/core/>\n",
    "PREFIX taxon:<http://purl.uniprot.org/taxonomy/>\n",
    "SELECT ?protein\n",
    "WHERE\n",
    "{\n",
    "    SERVICE<http://sparql.uniprot.org/sparql> \n",
    "    {\n",
    "        ?protein a uniprotcore:Protein . \n",
    "        ?protein uniprotcore:organism taxon:3702 . \n",
    "        ?protein uniprotcore:recommendedName ?name . \n",
    "        ?name uniprotcore:fullName ?full . \n",
    "    FILTER CONTAINS( ?full, 'Floral homeotic protein APETALA 3') . \n",
    "    }\n",
    "    ?probe atlasterms:dbXref ?protein . \n",
    "    ?probe dcterms:identifier ?id \n",
    "    \n",
    "}\n"
   ]
  },
  {
   "cell_type": "code",
   "execution_count": 7,
   "metadata": {},
   "outputs": [
    {
     "data": {
      "text/html": [
       "<div class=\"krn-spql\"><div class=\"magic\">Endpoint set to: http://www.ebi.ac.uk/rdf/services/atlas/sparql</div></div>"
      ],
      "text/plain": [
       "Endpoint set to: http://www.ebi.ac.uk/rdf/services/atlas/sparql\n"
      ]
     },
     "metadata": {},
     "output_type": "display_data"
    },
    {
     "data": {
      "text/html": [
       "<div class=\"krn-spql\"><table><tr class=hdr><th>desc</th></tr></table><div class=\"tinfo\">Total: 0, Shown: 0</div></div>"
      ]
     },
     "metadata": {},
     "output_type": "display_data"
    }
   ],
   "source": [
    "#8\n",
    "%endpoint http://www.ebi.ac.uk/rdf/services/atlas/sparql\n",
    "PREFIX dcterms: <http://purl.org/dc/terms/>\n",
    "PREFIX sio: <http://semanticscience.org/resource/>\n",
    "PREFIX atlas: <http://rdf.ebi.ac.uk/resource/atlas/>\n",
    "PREFIX atlasterms: <http://rdf.ebi.ac.uk/terms/atlas/>\n",
    "PREFIX uniprotcore:<http://purl.uniprot.org/core/> \n",
    "PREFIX taxonomy:<http://purl.uniprot.org/taxonomy/> \n",
    "SELECT ?desc\n",
    "WHERE\n",
    "{\n",
    "    SERVICE<http://sparql.uniprot.org/sparql> \n",
    "    {\n",
    "        ?protein a uniprotcore:Protein .\n",
    "        ?protein uniprotcore:organism taxonomy:3702 .\n",
    "        ?protein uniprotcore:recommendedName ?name .\n",
    "        ?name uniprotcore:fullName ?full .\n",
    "        FILTER CONTAINS( ?full, 'APETALA 3') .\n",
    "    }\n",
    "    ?probe atlasterms:dbXref ?protein .  \n",
    "    ?differential atlasterms:isMeasurementOf ?probe .\n",
    "    ?dea atlasterms:hasExpressionValue ?differential .\n",
    "    ?experiment atlasterms:hasAnalysis ?dea .\n",
    "    ?experiment dcterms:description ?desc . \n",
    "    ?differential sio:SIO_000300 ?value .\n",
    "    FILTER CONTAINS(?value, 'DOWN') \n",
    "}\n",
    "\n",
    "SELECT ?predicate\n",
    "WHERE\n",
    "{\n",
    "    SERVICE<http://sparql.uniprot.org/sparql> \n",
    "    {\n",
    "        ?protein a uniprotcore:Protein .\n",
    "        ?protein uniprotcore:organism taxonomy:3702 .\n",
    "        ?protein uniprotcore:recommendedName ?name .\n",
    "    ?name uniprotcore:fullName ?full .\n",
    "    FILTER CONTAINS( ?full, 'APETALA 3') .\n",
    "    }\n",
    "    ?probe atlasterms:dbXref ?protein .\n",
    "    ?diferential atlasterms:isMeasurementOf ?probe .\n",
    "    ?diferential ?predicate ?value\n",
    "}"
   ]
  },
  {
   "cell_type": "code",
   "execution_count": 39,
   "metadata": {},
   "outputs": [
    {
     "data": {
      "text/html": [
       "<div class=\"krn-spql\"><div class=\"magic\">Endpoint set to: http://www.ebi.ac.uk/rdf/services/reactome/sparql</div><div class=\"magic\">Return format: JSON</div></div>"
      ],
      "text/plain": [
       "Endpoint set to: http://www.ebi.ac.uk/rdf/services/reactome/sparql\n",
       "Return format: JSON\n"
      ]
     },
     "metadata": {},
     "output_type": "display_data"
    },
    {
     "data": {
      "text/html": [
       "<div class=\"krn-spql\"><table><tr class=hdr><th>count</th></tr><tr class=odd><td class=val>809</td></tr></table><div class=\"tinfo\">Total: 1, Shown: 1</div></div>"
      ]
     },
     "metadata": {},
     "output_type": "display_data"
    }
   ],
   "source": [
    "%endpoint  http://www.ebi.ac.uk/rdf/services/reactome/sparql\n",
    "%format JSON\n",
    "#9\n",
    "\n",
    "PREFIX biopax3: <http://www.biopax.org/release/biopax-level3.owl#>\n",
    "PREFIX taxonomy:<http://identifiers.org/taxonomy/> \n",
    "SELECT (COUNT  (?pathway) AS ?count)\n",
    "WHERE \n",
    "{\n",
    "    ?pathway a biopax3:Pathway . \n",
    "    ?pathway biopax3:organism taxonomy:3702\n",
    "}"
   ]
  },
  {
   "cell_type": "code",
   "execution_count": null,
   "metadata": {},
   "outputs": [
    {
     "data": {
      "text/html": [
       "<div class=\"krn-spql\"><div class=\"magic\">Endpoint set to: http://www.ebi.ac.uk/rdf/services/reactome/sparql</div></div>"
      ],
      "text/plain": [
       "Endpoint set to: http://www.ebi.ac.uk/rdf/services/reactome/sparql\n"
      ]
     },
     "metadata": {},
     "output_type": "display_data"
    }
   ],
   "source": [
    "#10 \n",
    "%endpoint  http://www.ebi.ac.uk/rdf/services/reactome/sparql\n",
    "\n",
    "PREFIX biopax3: <http://www.biopax.org/release/biopax-level3.owl#>\n",
    "SELECT ?pubmedId\n",
    "WHERE\n",
    "{\n",
    "    ?pathway a biopax3:Pathway .\n",
    "    ?pathway biopax3:displayName ?name . \n",
    "    ?pathway biopax3:xref ?ref . \n",
    "    ?red biopax3:db ?db . \n",
    "    ?ref biopax3:id ?pubmedId . \n",
    "    FILTER(str(?name) = 'Degradation of the extracellular matrix') .\n",
    "    FILTER(str(?db) ='Pubmed') \n",
    "}\n",
    "\n"
   ]
  },
  {
   "cell_type": "code",
   "execution_count": 6,
   "metadata": {},
   "outputs": [
    {
     "data": {
      "text/html": [
       "<div class=\"krn-spql\"><div class=\"magic\">Endpoint set to: http://sparql.uniprot.org/sparql/</div></div>"
      ],
      "text/plain": [
       "Endpoint set to: http://sparql.uniprot.org/sparql/\n"
      ]
     },
     "metadata": {},
     "output_type": "display_data"
    },
    {
     "data": {
      "text/html": [
       "<div class=\"krn-spql\"><table><tr class=hdr><th>agi</th>\n",
       "<th>name</th></tr><tr class=odd><td class=val>At3g09090</td>\n",
       "<td class=val>DEX1</td></tr><tr class=even><td class=val>At3g02130</td>\n",
       "<td class=val>RPK2</td></tr><tr class=odd><td class=val>At4g21750</td>\n",
       "<td class=val>ATML1</td></tr><tr class=even><td class=val>At2g46710</td>\n",
       "<td class=val>ROPGAP3</td></tr><tr class=odd><td class=val>At5g55250</td>\n",
       "<td class=val>IAMT1</td></tr><tr class=even><td class=val>At1g13980</td>\n",
       "<td class=val>GN</td></tr><tr class=odd><td class=val>At5g40260</td>\n",
       "<td class=val>SWEET8</td></tr><tr class=even><td class=val>At5g02010</td>\n",
       "<td class=val>ROPGEF7</td></tr><tr class=odd><td class=val>At1g69670</td>\n",
       "<td class=val>CUL3B</td></tr><tr class=even><td class=val>At1g63700</td>\n",
       "<td class=val>YDA</td></tr><tr class=odd><td class=val>At3g54220</td>\n",
       "<td class=val>SCR</td></tr><tr class=even><td class=val>At4g37650</td>\n",
       "<td class=val>SHR</td></tr><tr class=odd><td class=val>At1g26830</td>\n",
       "<td class=val>CUL3A</td></tr><tr class=even><td class=val>At1g69270</td>\n",
       "<td class=val>RPK1</td></tr><tr class=odd><td class=val>At2g42580</td>\n",
       "<td class=val>TTL3</td></tr></table><div class=\"tinfo\">Total: 15, Shown: 15</div></div>"
      ]
     },
     "metadata": {},
     "output_type": "display_data"
    }
   ],
   "source": [
    "\n",
    "#11 find the AGI codes and gene names for all Arabidopsis thaliana  proteins that have a protein function annotation description that mentions “pattern formation”\n",
    "# look for: protein --> gene --> AGI code --> gene name, then see if we can find 'pattern formation'\n",
    "\n",
    "%endpoint http://sparql.uniprot.org/sparql/\n",
    "\n",
    "PREFIX uniprotcore:<http://purl.uniprot.org/core/>\n",
    "PREFIX taxon:<http://purl.uniprot.org/taxonomy/>\n",
    "PREFIX rdfs: <http://www.w3.org/2000/01/rdf-schema#>\n",
    "PREFIX skos:<http://www.w3.org/2004/02/skos/core#>\n",
    "\n",
    "SELECT ?agi ?name\n",
    "WHERE\n",
    "{\n",
    "    ?protein a uniprotcore:Protein .\n",
    "    ?protein uniprotcore:organism taxon:3702 .\n",
    "    ?protein uniprotcore:encodedBy ?gene . \n",
    "    ?gene uniprotcore:locusName ?agi . \n",
    "    ?gene skos:prefLabel ?name . \n",
    "    ?protein uniprotcore:annotation  ?annot . \n",
    "    ?annot a uniprotcore:Function_Annotation ; \n",
    "        rdfs:comment ?annotComment . \n",
    "    FILTER CONTAINS(str(?annotComment), 'pattern formation')      \n",
    "}\n",
    "\n",
    "\n"
   ]
  },
  {
   "cell_type": "code",
   "execution_count": null,
   "metadata": {},
   "outputs": [],
   "source": []
  }
 ],
 "metadata": {
  "kernelspec": {
   "display_name": "SPARQL",
   "language": "sparql",
   "name": "sparql"
  },
  "language_info": {
   "codemirror_mode": {
    "name": "sparql"
   },
   "mimetype": "application/sparql-query",
   "name": "sparql",
   "pygments_lexer": "sparql-nb"
  }
 },
 "nbformat": 4,
 "nbformat_minor": 2
}
